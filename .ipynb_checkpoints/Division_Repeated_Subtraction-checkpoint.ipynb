{
 "cells": [
  {
   "cell_type": "code",
   "execution_count": 23,
   "metadata": {},
   "outputs": [
    {
     "name": "stdout",
     "output_type": "stream",
     "text": [
      "Please input a non-negative integer:10\n",
      "Please input a second non-negative integer:10\n",
      "The quotient is 1 and the remainder is 0.0\n"
     ]
    }
   ],
   "source": [
    "a=float(input(\"Please input a non-negative integer:\"))\n",
    "b=float(input(\"Please input a second non-negative integer:\"))\n",
    "q=0\n",
    "\n",
    "while (a<=0 or b<=0):\n",
    "  if (a==0 or b==0):\n",
    "    print (\"Error. Dividing by zero is undefined\")\n",
    "  if (a<0 or b<0):\n",
    "    print (\"Error. Please enter a non-negative number\")\n",
    "  a=float(input(\"Please input a non-negative integer:\"))\n",
    "  b=float(input(\"Please input a second non-negative integer:\"))\n",
    "\n",
    "while (a>=b):\n",
    "  a=a-b\n",
    "  q=q+1\n",
    "\n",
    "total_a=(q*b)+a\n",
    "r=total_a-(q*b)\n",
    "print (\"The quotient is\",q, \"and the remainder is\",r)"
   ]
  },
  {
   "cell_type": "code",
   "execution_count": 14,
   "metadata": {},
   "outputs": [],
   "source": [
    "def division(numerator,denominator):\n",
    "    \n",
    "    sign  = 1\n",
    "    qoutient = 0\n",
    "    remainder = 0\n",
    "    \n",
    "    power = int(input(\"Please input number of decimal places:\"))\n",
    "    decimal_places = 10**power\n",
    "    \n",
    "    if numerator == 0 or denominator == 0:\n",
    "        print(\"Undefined\")\n",
    "        return\n",
    "    \n",
    "    if (numerator < 0 and denominator > 0) or (numerator > 0 and denominator < 0):\n",
    "        sign = -1\n",
    "\n",
    "    numerator = abs(numerator)\n",
    "    denominator = abs(denominator)\n",
    "        \n",
    "    while numerator >= denominator:\n",
    "        \n",
    "        numerator = numerator - denominator\n",
    "            \n",
    "        qoutient  = qoutient + 1\n",
    "    \n",
    "    qoutient = qoutient * sign\n",
    "        \n",
    "    if numerator > 0:\n",
    "        \n",
    "        numerator = numerator * decimal_places\n",
    "    \n",
    "        while numerator >= denominator:\n",
    "        \n",
    "            numerator = numerator - denominator\n",
    "            \n",
    "            remainder = remainder + 1\n",
    "            \n",
    "        print (str(qoutient) + \".\" + str(remainder))\n",
    "    \n",
    "    else:\n",
    "        \n",
    "        print (str(qoutient) + \".\" + str(remainder) * power)"
   ]
  },
  {
   "cell_type": "code",
   "execution_count": 15,
   "metadata": {},
   "outputs": [
    {
     "name": "stdout",
     "output_type": "stream",
     "text": [
      "Please input number of decimal places:3\n",
      "2.500\n"
     ]
    }
   ],
   "source": [
    "division(10,4)"
   ]
  },
  {
   "cell_type": "code",
   "execution_count": 45,
   "metadata": {},
   "outputs": [],
   "source": [
    "def division(numerator,denominator):\n",
    "    qoutient = 0\n",
    "    remainder = 0\n",
    "    sign = 1\n",
    "    power = int(input(\"Please enter the number of decimal places:\"))\n",
    "    decimals = 10**power\n",
    "    \n",
    "    if numerator == 0 or denominator == 0:\n",
    "        print(\"undefined!\")\n",
    "        return\n",
    "    \n",
    "    if (numerator < 0 and denominator > 0) or (numerator > 0 and denominator < 0):\n",
    "        sign = -1\n",
    "        \n",
    "    numerator = abs(numerator)\n",
    "    denominator = abs(denominator)\n",
    "        \n",
    "    while numerator >= denominator:\n",
    "        \n",
    "        numerator = numerator - denominator\n",
    "        \n",
    "        qoutient += 1\n",
    "    \n",
    "    qoutient = qoutient * sign\n",
    "        \n",
    "    if numerator > 0:\n",
    "        \n",
    "        numerator = numerator * decimals\n",
    "        \n",
    "        while numerator >= denominator:\n",
    "            \n",
    "            numerator = numerator - denominator\n",
    "            \n",
    "            remainder += 1\n",
    "            \n",
    "        print(str(qoutient) + \".\" + str(remainder))\n",
    "        \n",
    "    else:\n",
    "        print(str(qoutient) + \".\" + str(remainder)*power)"
   ]
  },
  {
   "cell_type": "code",
   "execution_count": 46,
   "metadata": {},
   "outputs": [
    {
     "name": "stdout",
     "output_type": "stream",
     "text": [
      "Please enter the number of decimal places:3\n",
      "7.500\n"
     ]
    }
   ],
   "source": [
    "division(15,2)"
   ]
  },
  {
   "cell_type": "code",
   "execution_count": null,
   "metadata": {},
   "outputs": [],
   "source": []
  },
  {
   "cell_type": "code",
   "execution_count": null,
   "metadata": {},
   "outputs": [],
   "source": []
  }
 ],
 "metadata": {
  "kernelspec": {
   "display_name": "Python 3",
   "language": "python",
   "name": "python3"
  },
  "language_info": {
   "codemirror_mode": {
    "name": "ipython",
    "version": 3
   },
   "file_extension": ".py",
   "mimetype": "text/x-python",
   "name": "python",
   "nbconvert_exporter": "python",
   "pygments_lexer": "ipython3",
   "version": "3.8.3"
  }
 },
 "nbformat": 4,
 "nbformat_minor": 4
}
