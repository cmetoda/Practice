{
 "cells": [
  {
   "cell_type": "code",
   "execution_count": 1,
   "metadata": {},
   "outputs": [
    {
     "name": "stdout",
     "output_type": "stream",
     "text": [
      "5a5b3c3d3e\n",
      "['a', 'a', 'a', 'a', 'a', 'b', 'b', 'b', 'b', 'b', 'c', 'c', 'c', 'd', 'd', 'd', 'e', 'e', 'e']\n"
     ]
    }
   ],
   "source": [
    "test_str = \"abcdeabcdeabcdeabab\"\n",
    "test_str = test_str.lower()\n",
    "test_str = list(test_str)\n",
    "test_str.sort()\n",
    "\n",
    "letter = test_str[0]\n",
    "all_freq = \"\"\n",
    "counter = 0\n",
    "\n",
    "for i in test_str:\n",
    "    if i == letter:\n",
    "        counter = counter + 1\n",
    "    else:\n",
    "        all_freq = all_freq + str(counter) + letter\n",
    "        letter = i\n",
    "        counter = 1\n",
    "        \n",
    "all_freq = all_freq + str(counter) + letter\n",
    "    \n",
    "\n",
    "print(all_freq)\n",
    "print(test_str)"
   ]
  },
  {
   "cell_type": "code",
   "execution_count": 10,
   "metadata": {},
   "outputs": [
    {
     "name": "stdout",
     "output_type": "stream",
     "text": [
      "{'g': 2, 'e': 4, 'k': 2, 's': 2, 'f': 1, 'o': 1, 'r': 1}\n"
     ]
    }
   ],
   "source": [
    "# Python3 code to demonstrate\n",
    "# each occurrence frequency using\n",
    "# naive method\n",
    "\n",
    "# initializing string\n",
    "test_str = \"Geeksforgeeks\"\n",
    "test_str = test_str.lower()\n",
    "\n",
    "# using naive method to get count\n",
    "# of each element in string\n",
    "all_freq = {}\n",
    "\n",
    "for i in test_str:\n",
    "    if i in all_freq:\n",
    "        all_freq[i] += 1\n",
    "    else:\n",
    "        all_freq[i] = 1\n",
    "\n",
    "# printing result\n",
    "print(all_freq)"
   ]
  },
  {
   "cell_type": "code",
   "execution_count": 29,
   "metadata": {},
   "outputs": [],
   "source": [
    "def char_freq(test_str):\n",
    "    \n",
    "#     test_str = test_str.lower()\n",
    "    test_str = list(test_str)\n",
    "    test_str.sort()\n",
    "    \n",
    "    all_freq = \"\"\n",
    "    letter = test_str[0]\n",
    "    count = 0\n",
    "    \n",
    "    for i in test_str:\n",
    "        if i == letter:\n",
    "            count += 1\n",
    "        \n",
    "        else:\n",
    "            all_freq = all_freq + str(count) + letter\n",
    "            letter = i\n",
    "            count = 1\n",
    "            \n",
    "    all_freq = all_freq + str(count) + letter\n",
    "            \n",
    "    print(all_freq)\n",
    "#     print(test_str)\n",
    "            "
   ]
  },
  {
   "cell_type": "code",
   "execution_count": 30,
   "metadata": {},
   "outputs": [
    {
     "name": "stdout",
     "output_type": "stream",
     "text": [
      "1A1a2b2c2d1e1f1g\n"
     ]
    }
   ],
   "source": [
    "test_str = \"abcdefgAbcd\"\n",
    "char_freq(test_str)"
   ]
  },
  {
   "cell_type": "code",
   "execution_count": 27,
   "metadata": {},
   "outputs": [],
   "source": [
    "def char_freq_(test_str):\n",
    "    test_str = test_str.lower()\n",
    "    \n",
    "    all_freq = {}\n",
    "    \n",
    "    for i in test_str:\n",
    "        if i in all_freq:\n",
    "            all_freq[i] += 1\n",
    "        else:\n",
    "            all_freq[i] = 1\n",
    "    print(all_freq)"
   ]
  },
  {
   "cell_type": "code",
   "execution_count": 28,
   "metadata": {},
   "outputs": [
    {
     "name": "stdout",
     "output_type": "stream",
     "text": [
      "{'a': 2, 'b': 2, 'c': 2, 'd': 2, 'e': 1, 'f': 1, 'g': 1}\n"
     ]
    }
   ],
   "source": [
    "test_str = \"abcdefgabcd\"\n",
    "char_freq_(test_str)"
   ]
  },
  {
   "cell_type": "code",
   "execution_count": null,
   "metadata": {},
   "outputs": [],
   "source": []
  }
 ],
 "metadata": {
  "kernelspec": {
   "display_name": "Python 3",
   "language": "python",
   "name": "python3"
  },
  "language_info": {
   "codemirror_mode": {
    "name": "ipython",
    "version": 3
   },
   "file_extension": ".py",
   "mimetype": "text/x-python",
   "name": "python",
   "nbconvert_exporter": "python",
   "pygments_lexer": "ipython3",
   "version": "3.8.3"
  }
 },
 "nbformat": 4,
 "nbformat_minor": 4
}
